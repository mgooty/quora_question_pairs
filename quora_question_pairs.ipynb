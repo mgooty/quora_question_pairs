{
 "cells": [
  {
   "cell_type": "code",
   "execution_count": 37,
   "metadata": {
    "collapsed": false
   },
   "outputs": [],
   "source": [
    "from keras.datasets import mnist\n",
    "from keras.models import Sequential, Model\n",
    "from keras.layers import Dense, Dropout, Input, Lambda, Embedding, LSTM\n",
    "from keras.optimizers import RMSprop\n",
    "from keras import backend as K"
   ]
  },
  {
   "cell_type": "code",
   "execution_count": 8,
   "metadata": {
    "collapsed": false,
    "deletable": true,
    "editable": true
   },
   "outputs": [],
   "source": [
    "import re\n",
    "\n",
    "from collections import Counter\n",
    "import tensorflow as tf\n",
    "import numpy as np\n",
    "import pandas as pd\n",
    "import gensim\n",
    "from scipy.spatial.distance import cosine\n",
    "\n",
    "from nltk.corpus import stopwords\n",
    "from nltk.stem import SnowballStemmer"
   ]
  },
  {
   "cell_type": "code",
   "execution_count": 73,
   "metadata": {
    "collapsed": true,
    "deletable": true,
    "editable": true
   },
   "outputs": [],
   "source": [
    "train_df = pd.read_csv('data/dev_train.csv')"
   ]
  },
  {
   "cell_type": "code",
   "execution_count": 74,
   "metadata": {
    "collapsed": true,
    "deletable": true,
    "editable": true
   },
   "outputs": [],
   "source": [
    "def text_to_wordlist(text, remove_stopwords=False, stem_words=False):\n",
    "    # Clean the text, with the option to remove stopwords and to stem words.\n",
    "    \n",
    "    # Convert words to lower case and split them\n",
    "    text = text.lower().split()\n",
    "\n",
    "    # Optionally, remove stop words\n",
    "    if remove_stopwords:\n",
    "        stops = set(stopwords.words(\"english\"))\n",
    "        text = [w for w in text if not w in stops]\n",
    "    \n",
    "    text = \" \".join(text)\n",
    "\n",
    "    # Clean the text\n",
    "    text = re.sub(r\"[^A-Za-z0-9^,!.\\/'+-=]\", \" \", text)\n",
    "    text = re.sub(r\"what's\", \"what is \", text)\n",
    "    text = re.sub(r\"\\'s\", \" \", text)\n",
    "    text = re.sub(r\"\\'ve\", \" have \", text)\n",
    "    text = re.sub(r\"can't\", \"cannot \", text)\n",
    "    text = re.sub(r\"n't\", \" not \", text)\n",
    "    text = re.sub(r\"i'm\", \"i am \", text)\n",
    "    text = re.sub(r\"\\'re\", \" are \", text)\n",
    "    text = re.sub(r\"\\'d\", \" would \", text)\n",
    "    text = re.sub(r\"\\'ll\", \" will \", text)\n",
    "    text = re.sub(r\",\", \" \", text)\n",
    "    text = re.sub(r\"\\.\", \" \", text)\n",
    "    text = re.sub(r\"!\", \" ! \", text)\n",
    "    text = re.sub(r\"\\/\", \" \", text)\n",
    "    text = re.sub(r\"\\^\", \" ^ \", text)\n",
    "    text = re.sub(r\"\\+\", \" + \", text)\n",
    "    text = re.sub(r\"\\-\", \" - \", text)\n",
    "    text = re.sub(r\"\\=\", \" = \", text)\n",
    "    text = re.sub(r\"'\", \" \", text)\n",
    "    text = re.sub(r\"(\\d+)(k)\", r\"\\g<1>000\", text)\n",
    "    text = re.sub(r\":\", \" : \", text)\n",
    "    text = re.sub(r\" e g \", \" eg \", text)\n",
    "    text = re.sub(r\" b g \", \" bg \", text)\n",
    "    text = re.sub(r\" u s \", \" american \", text)\n",
    "    text = re.sub(r\"\\0s\", \"0\", text)\n",
    "    text = re.sub(r\" 9 11 \", \"911\", text)\n",
    "    text = re.sub(r\"e - mail\", \"email\", text)\n",
    "    text = re.sub(r\"j k\", \"jk\", text)\n",
    "    text = re.sub(r\"\\s{2,}\", \" \", text)\n",
    "    \n",
    "    # Optionally, shorten words to their stems\n",
    "    if stem_words:\n",
    "        text = text.split()\n",
    "        stemmer = SnowballStemmer('english')\n",
    "        stemmed_words = [stemmer.stem(word) for word in text]\n",
    "        text = \" \".join(stemmed_words)\n",
    "    \n",
    "    # Return a list of words\n",
    "    return(text)"
   ]
  },
  {
   "cell_type": "code",
   "execution_count": 75,
   "metadata": {
    "collapsed": false,
    "deletable": true,
    "editable": true
   },
   "outputs": [],
   "source": [
    "train_df = train_df[train_df['question1'].notnull()]\n",
    "train_df = train_df[train_df['question2'].notnull()]\n",
    "\n",
    "question1_sentences = []\n",
    "question2_sentences = []\n",
    "labels = []\n",
    "for index, row in train_df.iterrows():\n",
    "    question1_sentences.append(text_to_wordlist(row['question1']))\n",
    "    question2_sentences.append(text_to_wordlist(row['question2']))\n",
    "    labels.append(int(row['is_duplicate']))\n",
    "\n",
    "assert (len(question1_sentences) == len(question2_sentences)), \"Num of q1 and q2 are not equal\""
   ]
  },
  {
   "cell_type": "code",
   "execution_count": 76,
   "metadata": {
    "collapsed": false,
    "deletable": true,
    "editable": true
   },
   "outputs": [],
   "source": [
    "wordsList = []\n",
    "\n",
    "for row in question1_sentences:\n",
    "    wordsList.extend(row.split())\n",
    "    \n",
    "for row in question2_sentences:\n",
    "    wordsList.extend(row.split())\n",
    "        \n",
    "counts = Counter(wordsList)\n",
    "\n",
    "vocab = sorted(counts, key=counts.get, reverse=True)\n",
    "vocab_to_int = {word: ii for ii, word in enumerate(vocab, 1)}"
   ]
  },
  {
   "cell_type": "code",
   "execution_count": 78,
   "metadata": {
    "collapsed": false,
    "deletable": true,
    "editable": true
   },
   "outputs": [],
   "source": [
    "question1_int = []\n",
    "question2_int = []\n",
    "labels_int = []\n",
    "\n",
    "for index, row in enumerate(question1_sentences):\n",
    "    question1 = []\n",
    "    question2 = []\n",
    "    \n",
    "    question1_words = question1_sentences[index].split()\n",
    "    question2_words = question2_sentences[index].split()\n",
    "    \n",
    "    if (len(question1_words) > 3) and (len(question2_words) > 3):\n",
    "        labels_int.append(labels[index])\n",
    "        for word in question1_words:\n",
    "            question1.append(vocab_to_int.get(word))\n",
    "\n",
    "        question1_int.append(question1)\n",
    "\n",
    "        for word in question2_words:\n",
    "            question2.append(vocab_to_int.get(word))\n",
    "\n",
    "        question2_int.append(question2)\n",
    "        \n",
    "assert (len(question1_int) == len(question2_int)), \"Num of q1 and q2 ints are not equal\""
   ]
  },
  {
   "cell_type": "code",
   "execution_count": 79,
   "metadata": {
    "collapsed": true
   },
   "outputs": [],
   "source": [
    "seq_len = 200"
   ]
  },
  {
   "cell_type": "code",
   "execution_count": 80,
   "metadata": {
    "collapsed": false,
    "deletable": true,
    "editable": true
   },
   "outputs": [],
   "source": [
    "question1_features = np.zeros((len(question1_int), seq_len), dtype=int)\n",
    "for i, row in enumerate(question1_int):\n",
    "    question1_features[i, -len(row):] = np.array(row)[:seq_len]\n",
    "    \n",
    "question2_features = np.zeros((len(question2_int), seq_len), dtype=int)\n",
    "for i, row in enumerate(question2_int):\n",
    "    question2_features[i, -len(row):] = np.array(row)[:seq_len]\n",
    "    \n",
    "assert (len(question1_features) == len(question2_features)), \"Num of q1 and q2 features are not equal\"\n",
    "assert (len(question1_features) == len(labels_int)), \"Num of questions and labels are not equal\""
   ]
  },
  {
   "cell_type": "code",
   "execution_count": 19,
   "metadata": {
    "collapsed": false,
    "deletable": true,
    "editable": true
   },
   "outputs": [],
   "source": [
    "word_embedding_model = gensim.models.KeyedVectors.load_word2vec_format('data/GoogleNews-vectors-negative300.bin', binary=True)"
   ]
  },
  {
   "cell_type": "code",
   "execution_count": 81,
   "metadata": {
    "collapsed": false,
    "deletable": true,
    "editable": true
   },
   "outputs": [],
   "source": [
    "embedding_matrix = np.zeros((len(vocab_to_int)+1, 300), dtype=float)\n",
    "\n",
    "for word, i in vocab_to_int.items():\n",
    "    if word in word_embedding_model.vocab:\n",
    "        embedding_matrix[i] = word_embedding_model.word_vec(word)"
   ]
  },
  {
   "cell_type": "code",
   "execution_count": 82,
   "metadata": {
    "collapsed": false,
    "deletable": true,
    "editable": true
   },
   "outputs": [],
   "source": [
    "from sklearn.model_selection import StratifiedShuffleSplit\n",
    "\n",
    "ss = StratifiedShuffleSplit(n_splits=1, test_size=0.2)\n",
    "\n",
    "labels = np.asarray(labels_int)\n",
    "train_idx, val_idx = next(ss.split(question1_features, labels))\n",
    "\n",
    "half_val_len = int(len(val_idx)/2)\n",
    "val_idx, test_idx = val_idx[:half_val_len], val_idx[half_val_len:]\n",
    "\n",
    "question1_train, question2_train, label_train = question1_features[train_idx], question2_features[train_idx], labels[train_idx]\n",
    "question1_val, question2_val, label_val = question1_features[val_idx], question2_features[val_idx], labels[val_idx]\n",
    "question1_test, question2_test, label_test = question1_features[test_idx], question2_features[test_idx], labels[test_idx]"
   ]
  },
  {
   "cell_type": "code",
   "execution_count": 83,
   "metadata": {
    "collapsed": false
   },
   "outputs": [
    {
     "data": {
      "text/plain": [
       "26076"
      ]
     },
     "execution_count": 83,
     "metadata": {},
     "output_type": "execute_result"
    }
   ],
   "source": [
    "len(vocab)"
   ]
  },
  {
   "cell_type": "code",
   "execution_count": 84,
   "metadata": {
    "collapsed": true,
    "deletable": true,
    "editable": true
   },
   "outputs": [],
   "source": [
    "lstm_size = 64\n",
    "lstm_layers = 1\n",
    "batch_size = 128\n",
    "learning_rate = 0.001"
   ]
  },
  {
   "cell_type": "code",
   "execution_count": 85,
   "metadata": {
    "collapsed": false,
    "deletable": true,
    "editable": true
   },
   "outputs": [
    {
     "name": "stdout",
     "output_type": "stream",
     "text": [
      "(26077, 300)\n"
     ]
    }
   ],
   "source": [
    "print(embedding_matrix.shape)"
   ]
  },
  {
   "cell_type": "code",
   "execution_count": 86,
   "metadata": {
    "collapsed": true
   },
   "outputs": [],
   "source": [
    "def euclidean_distance(vects):\n",
    "    x, y = vects\n",
    "    return K.sqrt(K.maximum(K.sum(K.square(x - y), axis=1, keepdims=True), K.epsilon()))"
   ]
  },
  {
   "cell_type": "code",
   "execution_count": 87,
   "metadata": {
    "collapsed": true
   },
   "outputs": [],
   "source": [
    "def eucl_dist_output_shape(shapes):\n",
    "    shape1, shape2 = shapes\n",
    "    return (shape1[0], 1)"
   ]
  },
  {
   "cell_type": "code",
   "execution_count": 88,
   "metadata": {
    "collapsed": true
   },
   "outputs": [],
   "source": [
    "def contrastive_loss(y_true, y_pred):\n",
    "    '''Contrastive loss from Hadsell-et-al.'06\n",
    "    http://yann.lecun.com/exdb/publis/pdf/hadsell-chopra-lecun-06.pdf\n",
    "    '''\n",
    "    margin = 1\n",
    "    return K.mean(y_true * K.square(y_pred) +\n",
    "                  (1 - y_true) * K.square(K.maximum(margin - y_pred, 0)))"
   ]
  },
  {
   "cell_type": "code",
   "execution_count": 89,
   "metadata": {
    "collapsed": true
   },
   "outputs": [],
   "source": [
    "def compute_accuracy(predictions, labels):\n",
    "    '''Compute classification accuracy with a fixed threshold on distances.\n",
    "    '''\n",
    "    return labels[predictions.ravel() < 0.5].mean()"
   ]
  },
  {
   "cell_type": "code",
   "execution_count": 92,
   "metadata": {
    "collapsed": false
   },
   "outputs": [
    {
     "name": "stdout",
     "output_type": "stream",
     "text": [
      "Train on 23676 samples, validate on 2960 samples\n",
      "Epoch 1/10\n",
      "23676/23676 [==============================] - 367s - loss: 0.1970 - val_loss: 0.1844\n",
      "Epoch 2/10\n",
      "23676/23676 [==============================] - 369s - loss: 0.1714 - val_loss: 0.1758\n",
      "Epoch 3/10\n",
      "23676/23676 [==============================] - 363s - loss: 0.1584 - val_loss: 0.1703\n",
      "Epoch 4/10\n",
      "23676/23676 [==============================] - 353s - loss: 0.1513 - val_loss: 0.1686\n",
      "Epoch 5/10\n",
      "23676/23676 [==============================] - 353s - loss: 0.1426 - val_loss: 0.1694\n",
      "Epoch 6/10\n",
      "23676/23676 [==============================] - 599s - loss: 0.1366 - val_loss: 0.1655\n",
      "Epoch 7/10\n",
      "23676/23676 [==============================] - 350s - loss: 0.1315 - val_loss: 0.1625\n",
      "Epoch 8/10\n",
      "23676/23676 [==============================] - 358s - loss: 0.1268 - val_loss: 0.1631\n",
      "Epoch 9/10\n",
      "23676/23676 [==============================] - 350s - loss: 0.1359 - val_loss: 0.1621\n",
      "Epoch 10/10\n",
      "23676/23676 [==============================] - 351s - loss: 0.1201 - val_loss: 0.1624\n"
     ]
    },
    {
     "data": {
      "text/plain": [
       "<keras.callbacks.History at 0x263c4b518>"
      ]
     },
     "execution_count": 92,
     "metadata": {},
     "output_type": "execute_result"
    }
   ],
   "source": [
    "input_q1 = Input(shape=(seq_len, ), dtype='float32')\n",
    "input_q2 = Input(shape=(seq_len, ), dtype='float32')\n",
    "\n",
    "embedding_layer_q1 = Embedding(input_dim=len(vocab_to_int) + 1, \n",
    "                               output_dim=300,\n",
    "                            weights=[embedding_matrix],\n",
    "                            input_length=seq_len,\n",
    "                            trainable=False)(input_q1)\n",
    "\n",
    "embedding_layer_q2 = Embedding(input_dim=len(vocab_to_int) + 1, \n",
    "                               output_dim=300,\n",
    "                                weights=[embedding_matrix],\n",
    "                                input_length=seq_len,\n",
    "                                trainable=False)(input_q2)\n",
    "\n",
    "shared_lstm = LSTM(128)\n",
    "\n",
    "q1 = shared_lstm(embedding_layer_q1)\n",
    "q2 = shared_lstm(embedding_layer_q2)\n",
    "\n",
    "distance = Lambda(euclidean_distance,\n",
    "                  output_shape=eucl_dist_output_shape)([q1, q2])\n",
    "\n",
    "model = Model([input_q1, input_q2], distance)\n",
    "\n",
    "# train\n",
    "rms = RMSprop()\n",
    "model.compile(loss=contrastive_loss, optimizer=rms)\n",
    "model.fit([question1_train, question2_train], label_train,\n",
    "          batch_size=128,\n",
    "          epochs=10,\n",
    "          validation_data=([question1_val, question2_val], label_val))\n"
   ]
  },
  {
   "cell_type": "code",
   "execution_count": 118,
   "metadata": {
    "collapsed": false
   },
   "outputs": [
    {
     "name": "stdout",
     "output_type": "stream",
     "text": [
      "* Accuracy on training set: 82.83%\n",
      "* Accuracy on test set: 74.26%\n"
     ]
    }
   ],
   "source": [
    "# compute final accuracy on training and test sets\n",
    "pred = model.predict([question1_train, question2_train])\n",
    "tr_acc = compute_accuracy(pred, label_train)\n",
    "\n",
    "pred = model.predict([question1_test, question2_test])\n",
    "te_acc = compute_accuracy(pred, label_test)\n",
    "\n",
    "print('* Accuracy on training set: %0.2f%%' % (100 * tr_acc))\n",
    "print('* Accuracy on test set: %0.2f%%' % (100 * te_acc))"
   ]
  }
 ],
 "metadata": {
  "kernelspec": {
   "display_name": "Python 3",
   "language": "python",
   "name": "python3"
  },
  "language_info": {
   "codemirror_mode": {
    "name": "ipython",
    "version": 3
   },
   "file_extension": ".py",
   "mimetype": "text/x-python",
   "name": "python",
   "nbconvert_exporter": "python",
   "pygments_lexer": "ipython3",
   "version": "3.5.3"
  },
  "widgets": {
   "state": {},
   "version": "1.1.2"
  }
 },
 "nbformat": 4,
 "nbformat_minor": 1
}
